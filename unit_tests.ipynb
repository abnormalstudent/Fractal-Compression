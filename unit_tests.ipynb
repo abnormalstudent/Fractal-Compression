{
 "cells": [
  {
   "cell_type": "code",
   "execution_count": 4,
   "metadata": {},
   "outputs": [],
   "source": [
    "TRANSFORM_UNIT_TESTS = (((np.array([[1, 2], \n",
    "                                    [3, 4]]),\n",
    "                         np.array([[4, 6], \n",
    "                                   [8, 10]]),\n",
    "                         0, 0, 2, 1), \n",
    "                        1.5),\n",
    "                       ((np.array([[1, 2], \n",
    "                                   [3, 4]]),\n",
    "                         np.array([[4, 6, 7, 6], \n",
    "                                   [6, 7, 5, 4]]),\n",
    "                         0, 0, 2, 1), \n",
    "                        0),\n",
    "                       ((np.array([[1, 2], \n",
    "                                   [3, 4]]),\n",
    "                         np.array([[4, 8, 6, 8], \n",
    "                                   [6, 7, 5, 8]]),\n",
    "                         0, 0, 2, 1), \n",
    "                        0),\n",
    "                       ((np.array([[1, 2], \n",
    "                                   [3, 4]]),\n",
    "                         np.array([[4, 2, 3, 6], \n",
    "                                   [6, 4, 5, 5]]),\n",
    "                         0, 0, 2, 2),\n",
    "                        0.5))\n",
    "    \n",
    "def test_transform():\n",
    "    for test, answer in TRANSFORM_UNIT_TESTS:\n",
    "        transform = find_block_transform(*test)\n",
    "        img, resized_img, x, y, block_size, stride = test\n",
    "        transformed = perform_transform(np.zeros_like(img), resized_img, [transform], block_size)\n",
    "        loss = mse(img, transformed)\n",
    "        if loss > answer + 1e-5:\n",
    "            return False\n",
    "    return True"
   ]
  },
  {
   "cell_type": "code",
   "execution_count": 3,
   "metadata": {},
   "outputs": [
    {
     "ename": "NameError",
     "evalue": "name 'find_block_transform' is not defined",
     "output_type": "error",
     "traceback": [
      "\u001b[0;31m---------------------------------------------------------------------------\u001b[0m",
      "\u001b[0;31mNameError\u001b[0m                                 Traceback (most recent call last)",
      "\u001b[0;32m<ipython-input-3-228a3745e2e4>\u001b[0m in \u001b[0;36m<module>\u001b[0;34m\u001b[0m\n\u001b[0;32m----> 1\u001b[0;31m \u001b[0mprint\u001b[0m\u001b[0;34m(\u001b[0m\u001b[0mtest_transform\u001b[0m\u001b[0;34m(\u001b[0m\u001b[0;34m)\u001b[0m\u001b[0;34m)\u001b[0m\u001b[0;34m\u001b[0m\u001b[0;34m\u001b[0m\u001b[0m\n\u001b[0m",
      "\u001b[0;32m<ipython-input-2-034cfc3737cc>\u001b[0m in \u001b[0;36mtest_transform\u001b[0;34m()\u001b[0m\n\u001b[1;32m     29\u001b[0m \u001b[0;32mdef\u001b[0m \u001b[0mtest_transform\u001b[0m\u001b[0;34m(\u001b[0m\u001b[0;34m)\u001b[0m\u001b[0;34m:\u001b[0m\u001b[0;34m\u001b[0m\u001b[0;34m\u001b[0m\u001b[0m\n\u001b[1;32m     30\u001b[0m     \u001b[0;32mfor\u001b[0m \u001b[0mtest\u001b[0m\u001b[0;34m,\u001b[0m \u001b[0manswer\u001b[0m \u001b[0;32min\u001b[0m \u001b[0mTRANSFORM_UNIT_TESTS\u001b[0m\u001b[0;34m:\u001b[0m\u001b[0;34m\u001b[0m\u001b[0;34m\u001b[0m\u001b[0m\n\u001b[0;32m---> 31\u001b[0;31m         \u001b[0mtransform\u001b[0m \u001b[0;34m=\u001b[0m \u001b[0mfind_block_transform\u001b[0m\u001b[0;34m(\u001b[0m\u001b[0;34m*\u001b[0m\u001b[0mtest\u001b[0m\u001b[0;34m)\u001b[0m\u001b[0;34m\u001b[0m\u001b[0;34m\u001b[0m\u001b[0m\n\u001b[0m\u001b[1;32m     32\u001b[0m         \u001b[0mimg\u001b[0m\u001b[0;34m,\u001b[0m \u001b[0mresized_img\u001b[0m\u001b[0;34m,\u001b[0m \u001b[0mx\u001b[0m\u001b[0;34m,\u001b[0m \u001b[0my\u001b[0m\u001b[0;34m,\u001b[0m \u001b[0mblock_size\u001b[0m\u001b[0;34m,\u001b[0m \u001b[0mstride\u001b[0m \u001b[0;34m=\u001b[0m \u001b[0mtest\u001b[0m\u001b[0;34m\u001b[0m\u001b[0;34m\u001b[0m\u001b[0m\n\u001b[1;32m     33\u001b[0m         \u001b[0mtransformed\u001b[0m \u001b[0;34m=\u001b[0m \u001b[0mperform_transform\u001b[0m\u001b[0;34m(\u001b[0m\u001b[0mnp\u001b[0m\u001b[0;34m.\u001b[0m\u001b[0mzeros_like\u001b[0m\u001b[0;34m(\u001b[0m\u001b[0mimg\u001b[0m\u001b[0;34m)\u001b[0m\u001b[0;34m,\u001b[0m \u001b[0mresized_img\u001b[0m\u001b[0;34m,\u001b[0m \u001b[0;34m[\u001b[0m\u001b[0mtransform\u001b[0m\u001b[0;34m]\u001b[0m\u001b[0;34m,\u001b[0m \u001b[0mblock_size\u001b[0m\u001b[0;34m)\u001b[0m\u001b[0;34m\u001b[0m\u001b[0;34m\u001b[0m\u001b[0m\n",
      "\u001b[0;31mNameError\u001b[0m: name 'find_block_transform' is not defined"
     ]
    }
   ],
   "source": [
    "print(test_transform())"
   ]
  },
  {
   "cell_type": "code",
   "execution_count": null,
   "metadata": {},
   "outputs": [],
   "source": [
    "def test_bit_buffer():\n",
    "    def fill():\n",
    "        bb = BitBuffer()\n",
    "        bb.push(15, 6)\n",
    "        bb.push(0, 7)\n",
    "        bb.push(1, 1)\n",
    "        bb.push(100, 400)\n",
    "        answer = [100, 1, 0, 15]\n",
    "        return bb, answer\n",
    "\n",
    "    bb, answer = fill()\n",
    "    res1 = []\n",
    "    res1.append(bb.pop(400))\n",
    "    res1.append(bb.pop(1))\n",
    "    res1.append(bb.pop(7))\n",
    "    res1.append(bb.pop(6))\n",
    "    if res1 == answer:\n",
    "        return True\n",
    "    bb, answer = fill()\n",
    "    res2 = []\n",
    "    res2.append(bb.pop(6))\n",
    "    res2.append(bb.pop(7))\n",
    "    res2.append(bb.pop(1))\n",
    "    res2.append(bb.pop(400))\n",
    "    if res2 == answer[::-1]:\n",
    "        return True\n",
    "    return False"
   ]
  },
  {
   "cell_type": "code",
   "execution_count": null,
   "metadata": {},
   "outputs": [],
   "source": [
    "print(test_bit_buffer())"
   ]
  }
 ],
 "metadata": {
  "kernelspec": {
   "display_name": "Python 3",
   "language": "python",
   "name": "python3"
  },
  "language_info": {
   "codemirror_mode": {
    "name": "ipython",
    "version": 3
   },
   "file_extension": ".py",
   "mimetype": "text/x-python",
   "name": "python",
   "nbconvert_exporter": "python",
   "pygments_lexer": "ipython3",
   "version": "3.8.3"
  }
 },
 "nbformat": 4,
 "nbformat_minor": 4
}
